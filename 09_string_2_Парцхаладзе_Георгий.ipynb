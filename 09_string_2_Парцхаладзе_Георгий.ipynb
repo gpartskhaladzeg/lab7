{
 "cells": [
  {
   "cell_type": "markdown",
   "metadata": {},
   "source": [
    "# Введение в обработку текста на естественном языке"
   ]
  },
  {
   "cell_type": "markdown",
   "metadata": {},
   "source": [
    "Материалы:\n",
    "* Макрушин С.В. Лекция 9: Введение в обработку текста на естественном языке\\\n",
    "* https://realpython.com/nltk-nlp-python/\n",
    "* https://scikit-learn.org/stable/modules/feature_extraction.html"
   ]
  },
  {
   "cell_type": "markdown",
   "metadata": {},
   "source": [
    "## Задачи для совместного разбора"
   ]
  },
  {
   "cell_type": "code",
   "execution_count": 1,
   "metadata": {},
   "outputs": [],
   "source": [
    "text = '''с велечайшим усилием выбравшись из потока убегающих людей Кутузов со свитой уменьшевшейся вдвое поехал на звуки выстрелов русских орудий'''"
   ]
  },
  {
   "cell_type": "markdown",
   "metadata": {},
   "source": [
    "1. Считайте слова из файла `litw-win.txt` и запишите их в список `words`. В заданном предложении исправьте все опечатки, заменив слова с опечатками на ближайшие (в смысле расстояния Левенштейна) к ним слова из списка `words`. Считайте, что в слове есть опечатка, если данное слово не содержится в списке `words`. "
   ]
  },
  {
   "cell_type": "code",
   "execution_count": 2,
   "metadata": {},
   "outputs": [
    {
     "name": "stdout",
     "output_type": "stream",
     "text": [
      "с велечайшим усилием выбравшись из потока убегающих людей Кутузов со свитой уменьшевшейся вдвое поехал на звуки выстрелов русских орудий\n",
      "с величайшим усилием выбравшись из потока убегающих людей кутузов со свитой уменьшившейся вдвое поехал на звуки выстрелов русских орудий\n"
     ]
    }
   ],
   "source": [
    "with open(\"data/litw-win_new.txt\", \"r\") as f:\n",
    "    words = f.read().split()\n",
    "\n",
    "\n",
    "def levenshtein_distance(s1, s2):\n",
    "    if len(s1) < len(s2):\n",
    "        return levenshtein_distance(s2, s1)\n",
    "\n",
    "    if len(s2) == 0:\n",
    "        return len(s1)\n",
    "\n",
    "    previous_row = range(len(s2) + 1)\n",
    "    for i, c1 in enumerate(s1):\n",
    "        current_row = [i + 1]\n",
    "        for j, c2 in enumerate(s2):\n",
    "            insertions = previous_row[j + 1] + 1\n",
    "            deletions = current_row[j] + 1\n",
    "            substitutions = previous_row[j] + (c1 != c2)\n",
    "            current_row.append(min(insertions, deletions, substitutions))\n",
    "        previous_row = current_row\n",
    "\n",
    "    return previous_row[-1]\n",
    "\n",
    "\n",
    "def correct_typo(word, words_list):\n",
    "    min_distance = float(\"inf\")\n",
    "    closest_word = word\n",
    "\n",
    "    for w in words_list:\n",
    "        distance = levenshtein_distance(word, w)\n",
    "        if distance < min_distance:\n",
    "            min_distance = distance\n",
    "            closest_word = w\n",
    "\n",
    "    return closest_word\n",
    "\n",
    "\n",
    "corrected_text = []\n",
    "for word in text.split():\n",
    "    if word in words:\n",
    "        corrected_text.append(word)\n",
    "    else:\n",
    "        corrected_text.append(correct_typo(word, words))\n",
    "\n",
    "corrected_text = \" \".join(corrected_text)\n",
    "print(text)\n",
    "print(corrected_text)"
   ]
  },
  {
   "cell_type": "markdown",
   "metadata": {},
   "source": [
    "2. Разбейте текст из формулировки задания 1 на слова; проведите стемминг и лемматизацию слов."
   ]
  },
  {
   "cell_type": "code",
   "execution_count": 3,
   "metadata": {},
   "outputs": [],
   "source": [
    "from nltk.stem.snowball import SnowballStemmer\n",
    "from pymorphy2 import MorphAnalyzer"
   ]
  },
  {
   "cell_type": "code",
   "execution_count": 4,
   "metadata": {},
   "outputs": [
    {
     "name": "stdout",
     "output_type": "stream",
     "text": [
      "['с', 'величайш', 'усил', 'выбра', 'из', 'поток', 'убега', 'люд', 'кутуз', 'со', 'свит', 'уменьш', 'вдво', 'поеха', 'на', 'звук', 'выстрел', 'русск', 'оруд']\n",
      "['с', 'великий', 'усилие', 'выбраться', 'из', 'поток', 'убегать', 'человек', 'кутузов', 'с', 'свита', 'уменьшиться', 'вдвое', 'поехать', 'на', 'звук', 'выстрел', 'русский', 'орудие']\n"
     ]
    }
   ],
   "source": [
    "words = corrected_text.split()\n",
    "\n",
    "stemmer = SnowballStemmer(\"russian\")\n",
    "morph = MorphAnalyzer()\n",
    "\n",
    "stemmed_words = [stemmer.stem(word) for word in words]\n",
    "lemmatized_words = [morph.parse(word)[0].normal_form for word in words]\n",
    "\n",
    "print(stemmed_words)\n",
    "print(lemmatized_words)"
   ]
  },
  {
   "cell_type": "markdown",
   "metadata": {},
   "source": [
    "3. Преобразуйте предложения из формулировки задания 1 в векторы при помощи `CountVectorizer`."
   ]
  },
  {
   "cell_type": "code",
   "execution_count": 5,
   "metadata": {},
   "outputs": [
    {
     "name": "stdout",
     "output_type": "stream",
     "text": [
      "['вдвое' 'величайшим' 'выбравшись' 'выстрелов' 'звуки' 'из' 'кутузов'\n",
      " 'людей' 'на' 'орудий' 'поехал' 'потока' 'русских' 'свитой' 'со'\n",
      " 'убегающих' 'уменьшившейся' 'усилием']\n",
      "[[1 1 1 1 1 1 1 1 1 1 1 1 1 1 1 1 1 1]]\n"
     ]
    }
   ],
   "source": [
    "from sklearn.feature_extraction.text import CountVectorizer\n",
    "\n",
    "vectorizer = CountVectorizer()\n",
    "X = vectorizer.fit_transform([corrected_text])\n",
    "\n",
    "print(vectorizer.get_feature_names_out())\n",
    "print(X.toarray())"
   ]
  },
  {
   "cell_type": "markdown",
   "metadata": {},
   "source": [
    "## Лабораторная работа 9"
   ]
  },
  {
   "cell_type": "markdown",
   "metadata": {},
   "source": [
    "### Расстояние редактирования"
   ]
  },
  {
   "cell_type": "markdown",
   "metadata": {},
   "source": [
    "1.1 Загрузите предобработанные описания рецептов из файла `preprocessed_descriptions.csv`. Получите набор уникальных слов `words`, содержащихся в текстах описаний рецептов (воспользуйтесь `word_tokenize` из `nltk`). "
   ]
  },
  {
   "cell_type": "code",
   "execution_count": 1,
   "metadata": {},
   "outputs": [],
   "source": [
    "import pandas as pd\n",
    "from nltk.tokenize import word_tokenize\n",
    "from nltk.metrics.distance import edit_distance\n",
    "import random"
   ]
  },
  {
   "cell_type": "code",
   "execution_count": 3,
   "metadata": {},
   "outputs": [],
   "source": [
    "# Загрузка предобработанных описаний рецептов из файла\n",
    "df = pd.read_csv('data/recipes_sample.csv')\n",
    "descriptions = df['description'].tolist()"
   ]
  },
  {
   "cell_type": "code",
   "execution_count": 4,
   "metadata": {},
   "outputs": [],
   "source": [
    "# Получение набора уникальных слов\n",
    "words = set()\n",
    "for description in descriptions:\n",
    "    if pd.isna(description):\n",
    "        continue\n",
    "    tokens = word_tokenize(description)\n",
    "    words.update(tokens)"
   ]
  },
  {
   "cell_type": "markdown",
   "metadata": {},
   "source": [
    "1.2 Сгенерируйте 5 пар случайно выбранных слов и посчитайте между ними расстояние редактирования."
   ]
  },
  {
   "cell_type": "code",
   "execution_count": 5,
   "metadata": {},
   "outputs": [
    {
     "name": "stdout",
     "output_type": "stream",
     "text": [
      "Расстояние редактирования между словами \"bakeoff\" и \"sits\" равно 7\n",
      "Расстояние редактирования между словами \"mits\" и \"taquito\" равно 5\n",
      "Расстояние редактирования между словами \"spiciness\" и \"browns\" равно 7\n",
      "Расстояние редактирования между словами \"-so\" и \"dessert.prep/cook\" равно 15\n",
      "Расстояние редактирования между словами \"147254\" и \"gain\" равно 6\n"
     ]
    },
    {
     "name": "stderr",
     "output_type": "stream",
     "text": [
      "C:\\Users\\alexa\\AppData\\Local\\Temp\\ipykernel_31408\\1417854365.py:3: DeprecationWarning: Sampling from a set deprecated\n",
      "since Python 3.9 and will be removed in a subsequent version.\n",
      "  word1, word2 = random.sample(words, 2)\n"
     ]
    }
   ],
   "source": [
    "# Генерация 5 пар случайно выбранных слов и подсчет расстояния редактирования между ними\n",
    "for i in range(5):\n",
    "    word1, word2 = random.sample(words, 2)\n",
    "    distance = edit_distance(word1, word2)\n",
    "    print(f'Расстояние редактирования между словами \"{word1}\" и \"{word2}\" равно {distance}')"
   ]
  },
  {
   "cell_type": "markdown",
   "metadata": {},
   "source": [
    "1.3 Напишите функцию, которая для заданного слова `word` возвращает `k` ближайших к нему слов из списка `words` (близость слов измеряется с помощью расстояния Левенштейна)"
   ]
  },
  {
   "cell_type": "code",
   "execution_count": 6,
   "metadata": {},
   "outputs": [],
   "source": [
    "def find_closest_words(word, words, k):\n",
    "    distances = [(edit_distance(word, w), w) for w in words]\n",
    "    distances.sort(key=lambda x: x[0])\n",
    "    closest_words = [w[1] for w in distances[:k]]\n",
    "    return closest_words"
   ]
  },
  {
   "cell_type": "code",
   "execution_count": 7,
   "metadata": {},
   "outputs": [
    {
     "name": "stdout",
     "output_type": "stream",
     "text": [
      "5 ближайших слов к 'processing': ['processing', 'pressing', 'proceeding', 'processer', 'processor/']\n"
     ]
    }
   ],
   "source": [
    "word = \"processing\"\n",
    "k = 5\n",
    "closest_words = find_closest_words(word, words, 5)\n",
    "print(f\"{k} ближайших слов к '{word}': {closest_words}\")"
   ]
  },
  {
   "cell_type": "markdown",
   "metadata": {},
   "source": [
    "### Стемминг, лемматизация"
   ]
  },
  {
   "cell_type": "markdown",
   "metadata": {},
   "source": [
    "2.1 На основе результатов 1.1 создайте `pd.DataFrame` со столбцами: \n",
    "    * word\n",
    "    * stemmed_word \n",
    "    * normalized_word \n",
    "\n",
    "Столбец `word` укажите в качестве индекса. \n",
    "\n",
    "Для стемминга воспользуйтесь `SnowballStemmer`, для нормализации слов - `WordNetLemmatizer`. Сравните результаты стемминга и лемматизации."
   ]
  },
  {
   "cell_type": "code",
   "execution_count": 8,
   "metadata": {},
   "outputs": [],
   "source": [
    "from nltk.stem import SnowballStemmer, WordNetLemmatizer\n",
    "from nltk.corpus import stopwords\n",
    "from collections import Counter"
   ]
  },
  {
   "cell_type": "code",
   "execution_count": 9,
   "metadata": {},
   "outputs": [],
   "source": [
    "# Создание pd.DataFrame со столбцами word, stemmed_word и normalized_word\n",
    "stemmer = SnowballStemmer('english')\n",
    "lemmatizer = WordNetLemmatizer()\n",
    "\n",
    "data = []\n",
    "for word in words:\n",
    "    stemmed_word = stemmer.stem(word)\n",
    "    normalized_word = lemmatizer.lemmatize(word)\n",
    "    data.append([word, stemmed_word, normalized_word])\n",
    "\n",
    "df_words = pd.DataFrame(data, columns=['word', 'stemmed_word', 'normalized_word'])\n",
    "df_words.set_index('word', inplace=True)"
   ]
  },
  {
   "cell_type": "code",
   "execution_count": 10,
   "metadata": {},
   "outputs": [
    {
     "name": "stdout",
     "output_type": "stream",
     "text": [
      "                 stemmed_word normalized_word\n",
      "word                                         \n",
      "low-sugar           low-sugar       low-sugar\n",
      "comstock             comstock        comstock\n",
      "purdy                   purdi           purdy\n",
      "lunchroom           lunchroom       lunchroom\n",
      "cook.there          cook.ther      cook.there\n",
      "1/2-centimetre  1/2-centimetr  1/2-centimetre\n",
      "kall                     kall            kall\n",
      "engine                  engin          engine\n",
      "mizrahi               mizrahi         mizrahi\n",
      "b4                         b4              b4\n"
     ]
    }
   ],
   "source": [
    "# Сравнение результатов стемминга и лемматизации\n",
    "print(df_words.head(10))"
   ]
  },
  {
   "cell_type": "markdown",
   "metadata": {},
   "source": [
    "2.2. Удалите стоп-слова из описаний рецептов. Какую долю об общего количества слов составляли стоп-слова? Сравните топ-10 самых часто употребляемых слов до и после удаления стоп-слов."
   ]
  },
  {
   "cell_type": "code",
   "execution_count": 12,
   "metadata": {},
   "outputs": [
    {
     "name": "stdout",
     "output_type": "stream",
     "text": [
      "Доля стоп-слов: 40.26%\n"
     ]
    }
   ],
   "source": [
    "stop_words = set(stopwords.words('english'))\n",
    "\n",
    "# Удаление стоп-слов из описаний рецептов\n",
    "filtered_descriptions = []\n",
    "for description in descriptions:\n",
    "    if pd.isna(description):\n",
    "        continue\n",
    "    tokens = word_tokenize(description)\n",
    "    filtered_tokens = [token for token in tokens if token.lower() not in stop_words]\n",
    "    filtered_description = ' '.join(filtered_tokens)\n",
    "    filtered_descriptions.append(filtered_description)\n",
    "\n",
    "# Подсчет доли стоп-слов\n",
    "total_words = sum(len(word_tokenize(description)) for description in descriptions if not pd.isna(description))\n",
    "total_filtered_words = sum(len(word_tokenize(description)) for description in filtered_descriptions)\n",
    "stop_words_ratio = (total_words - total_filtered_words) / total_words\n",
    "print(f'Доля стоп-слов: {stop_words_ratio:.2%}')"
   ]
  },
  {
   "cell_type": "code",
   "execution_count": 13,
   "metadata": {},
   "outputs": [
    {
     "name": "stdout",
     "output_type": "stream",
     "text": [
      "Топ-10 самых часто употребляемых слов до удаления стоп-слов:\n",
      ".: 66166\n",
      "the: 40257\n",
      ",: 38544\n",
      "a: 35030\n",
      "and: 30425\n",
      "i: 27799\n",
      "this: 27132\n",
      "to: 23508\n",
      "it: 23212\n",
      "is: 20501\n",
      "Топ-10 самых часто употребляемых слов после удаления стоп-слов:\n",
      ".: 66260\n",
      ",: 38544\n",
      "!: 16054\n",
      "recipe: 15122\n",
      "'s: 7689\n",
      "make: 6367\n",
      "``: 5470\n",
      "time: 5198\n",
      "n't: 4798\n",
      "use: 4645\n"
     ]
    }
   ],
   "source": [
    "# Сравнение топ-10 самых часто употребляемых слов до и после удаления стоп-слов\n",
    "all_words = [word for description in descriptions if not pd.isna(description) for word in word_tokenize(description)]\n",
    "all_filtered_words = [word for description in filtered_descriptions for word in word_tokenize(description)]\n",
    "\n",
    "top_words = Counter(all_words).most_common(10)\n",
    "top_filtered_words = Counter(all_filtered_words).most_common(10)\n",
    "\n",
    "print('Топ-10 самых часто употребляемых слов до удаления стоп-слов:')\n",
    "for word, count in top_words:\n",
    "    print(f'{word}: {count}')\n",
    "\n",
    "print('Топ-10 самых часто употребляемых слов после удаления стоп-слов:')\n",
    "for word, count in top_filtered_words:\n",
    "    print(f'{word}: {count}')"
   ]
  },
  {
   "cell_type": "markdown",
   "metadata": {},
   "source": [
    "### Векторное представление текста"
   ]
  },
  {
   "cell_type": "markdown",
   "metadata": {},
   "source": [
    "3.1 Выберите случайным образом 5 рецептов из набора данных. Представьте описание каждого рецепта в виде числового вектора при помощи `TfidfVectorizer`"
   ]
  },
  {
   "cell_type": "code",
   "execution_count": 23,
   "metadata": {},
   "outputs": [
    {
     "name": "stdout",
     "output_type": "stream",
     "text": [
      "Описание рецепта: fantastic chili recipe.   you can use dried ancho, pasilla, adobo or other peppers.   \n",
      "\n",
      "pasilla is a good choice for a mild level of spice.  use bottled hot sauce per bowl to kick it up for the real heat lovers.\n",
      "\n",
      "\n",
      "this recipe copied from the following url:  \n",
      "\n",
      "http://www.greatchilirecipes.net/awful_good_texas_chili.html  \n",
      "\n",
      "stored here as insurance in case the original site ever disappears.\n",
      "Вектор: [0.         0.         0.         0.12326683 0.12326683 0.\n",
      " 0.         0.12326683 0.12326683 0.         0.12326683 0.12326683\n",
      " 0.         0.         0.         0.08255323 0.12326683 0.\n",
      " 0.12326683 0.12326683 0.         0.         0.         0.12326683\n",
      " 0.         0.         0.         0.         0.12326683 0.\n",
      " 0.12326683 0.         0.12326683 0.12326683 0.         0.12326683\n",
      " 0.1989018  0.0994509  0.12326683 0.         0.12326683 0.12326683\n",
      " 0.12326683 0.12326683 0.12326683 0.12326683 0.08255323 0.\n",
      " 0.12326683 0.0994509  0.08255323 0.12326683 0.12326683 0.\n",
      " 0.12326683 0.         0.12326683 0.         0.         0.12326683\n",
      " 0.12326683 0.12326683 0.12326683 0.12326683 0.         0.\n",
      " 0.24653365 0.         0.12326683 0.12326683 0.         0.\n",
      " 0.         0.         0.12326683 0.24653365 0.         0.\n",
      " 0.         0.12326683 0.         0.         0.         0.12326683\n",
      " 0.         0.         0.         0.12326683 0.         0.12326683\n",
      " 0.         0.         0.2983527  0.08255323 0.         0.0994509\n",
      " 0.         0.12326683 0.12326683 0.1989018  0.         0.\n",
      " 0.         0.12326683 0.12326683]\n",
      "Описание рецепта: crispy and tasty shrimp!\n",
      "Вектор: [0.         0.         0.         0.         0.         0.38040565\n",
      " 0.         0.         0.         0.         0.         0.\n",
      " 0.         0.         0.         0.         0.         0.\n",
      " 0.         0.         0.         0.         0.         0.\n",
      " 0.         0.56801408 0.         0.         0.         0.\n",
      " 0.         0.         0.         0.         0.         0.\n",
      " 0.         0.         0.         0.         0.         0.\n",
      " 0.         0.         0.         0.         0.         0.\n",
      " 0.         0.         0.         0.         0.         0.\n",
      " 0.         0.         0.         0.         0.         0.\n",
      " 0.         0.         0.         0.         0.         0.\n",
      " 0.         0.         0.         0.         0.         0.\n",
      " 0.         0.         0.         0.         0.         0.\n",
      " 0.         0.         0.         0.56801408 0.         0.\n",
      " 0.         0.         0.         0.         0.         0.\n",
      " 0.45827018 0.         0.         0.         0.         0.\n",
      " 0.         0.         0.         0.         0.         0.\n",
      " 0.         0.         0.        ]\n",
      "Описание рецепта: this delicious pasta dish features chicken and spinach with mushrooms. it's a great weeknight meal that can be prepared and served in under 15 minutes. created for rsc #11. buon appetito!\n",
      "Вектор: [0.19671213 0.19671213 0.         0.         0.         0.26348081\n",
      " 0.19671213 0.         0.         0.15870611 0.         0.\n",
      " 0.19671213 0.         0.         0.13174041 0.         0.19671213\n",
      " 0.         0.         0.         0.         0.         0.\n",
      " 0.19671213 0.         0.         0.15870611 0.         0.15870611\n",
      " 0.         0.         0.         0.         0.19671213 0.\n",
      " 0.15870611 0.         0.         0.15870611 0.         0.\n",
      " 0.         0.         0.         0.         0.13174041 0.\n",
      " 0.         0.         0.13174041 0.         0.         0.\n",
      " 0.         0.19671213 0.         0.19671213 0.19671213 0.\n",
      " 0.         0.         0.         0.         0.         0.\n",
      " 0.         0.19671213 0.         0.         0.         0.19671213\n",
      " 0.         0.         0.         0.         0.         0.19671213\n",
      " 0.         0.         0.19671213 0.         0.         0.\n",
      " 0.         0.         0.         0.         0.19671213 0.\n",
      " 0.         0.19671213 0.         0.13174041 0.         0.\n",
      " 0.19671213 0.         0.         0.         0.         0.19671213\n",
      " 0.19671213 0.         0.        ]\n",
      "Описание рецепта: this dish is inspired by the spanish classic paella and is cooked from raw in the oven. the rice can be a little soft, cooking it this way but it's absolutely delicious and so easy!\n",
      "Вектор: [0.         0.         0.17150948 0.         0.         0.22972379\n",
      " 0.         0.         0.         0.13837277 0.         0.\n",
      " 0.         0.17150948 0.17150948 0.1148619  0.         0.\n",
      " 0.         0.         0.17150948 0.17150948 0.17150948 0.\n",
      " 0.         0.         0.         0.13837277 0.         0.13837277\n",
      " 0.         0.17150948 0.         0.         0.         0.\n",
      " 0.         0.13837277 0.         0.         0.         0.\n",
      " 0.         0.         0.         0.         0.1148619  0.17150948\n",
      " 0.         0.27674553 0.22972379 0.         0.         0.17150948\n",
      " 0.         0.         0.         0.         0.         0.\n",
      " 0.         0.         0.         0.         0.17150948 0.17150948\n",
      " 0.         0.         0.         0.         0.         0.\n",
      " 0.         0.17150948 0.         0.         0.17150948 0.\n",
      " 0.         0.         0.         0.         0.         0.\n",
      " 0.17150948 0.17150948 0.17150948 0.         0.         0.\n",
      " 0.         0.         0.4151183  0.22972379 0.         0.\n",
      " 0.         0.         0.         0.         0.13837277 0.\n",
      " 0.         0.         0.        ]\n",
      "Описание рецепта: cucumber salad. great side. tasty way to use those profuse cucumber plants.\n",
      "Вектор: [0.         0.         0.         0.         0.         0.\n",
      " 0.         0.         0.         0.         0.         0.\n",
      " 0.         0.         0.         0.         0.         0.\n",
      " 0.         0.         0.         0.         0.         0.\n",
      " 0.         0.         0.57132177 0.         0.         0.\n",
      " 0.         0.         0.         0.         0.         0.\n",
      " 0.         0.         0.         0.2304694  0.         0.\n",
      " 0.         0.         0.         0.         0.         0.\n",
      " 0.         0.         0.         0.         0.         0.\n",
      " 0.         0.         0.         0.         0.         0.\n",
      " 0.         0.         0.         0.         0.         0.\n",
      " 0.         0.         0.         0.         0.28566088 0.\n",
      " 0.28566088 0.         0.         0.         0.         0.\n",
      " 0.28566088 0.         0.         0.         0.28566088 0.\n",
      " 0.         0.         0.         0.         0.         0.\n",
      " 0.2304694  0.         0.         0.         0.28566088 0.2304694\n",
      " 0.         0.         0.         0.2304694  0.2304694  0.\n",
      " 0.         0.         0.        ]\n"
     ]
    }
   ],
   "source": [
    "from sklearn.feature_extraction.text import TfidfVectorizer\n",
    "\n",
    "# Выбор случайных 5 рецептов из набора данных\n",
    "random_rows = df.sample(5)\n",
    "random_descriptions = random_rows['description'].tolist()\n",
    "random_names = random_rows['name'].tolist()\n",
    "\n",
    "# Представление описаний рецептов в виде числовых векторов при помощи TfidfVectorizer\n",
    "vectorizer = TfidfVectorizer()\n",
    "tfidf_matrix = vectorizer.fit_transform(random_descriptions)\n",
    "tfidf_vectors = tfidf_matrix.toarray()\n",
    "\n",
    "# Вывод результатов\n",
    "for i, description in enumerate(random_descriptions):\n",
    "    vector = tfidf_vectors[i]\n",
    "    print(f'Описание рецепта: {description}')\n",
    "    print(f'Вектор: {vector}')"
   ]
  },
  {
   "cell_type": "markdown",
   "metadata": {},
   "source": [
    "3.2 Вычислите близость между каждой парой рецептов, выбранных в задании 3.1, используя косинусное расстояние (`scipy.spatial.distance.cosine`) Результаты оформите в виде таблицы `pd.DataFrame`. В качестве названий строк и столбцов используйте названия рецептов."
   ]
  },
  {
   "cell_type": "code",
   "execution_count": 24,
   "metadata": {},
   "outputs": [
    {
     "name": "stdout",
     "output_type": "stream",
     "text": [
      "Близость между каждой парой рецептов:\n",
      "                                        texas chili  salt and pepper shrimp  farfalle con pollo e spinaci  baked spanish risotto  cucumber in vinegar  pickled cucumbers\n",
      "texas chili                                1.000000                0.000000                      0.075069               0.222029                                0.068761\n",
      "salt and pepper shrimp                     0.000000                1.000000                      0.100230               0.087388                                0.105617\n",
      "farfalle con pollo e spinaci               0.075069                0.100230                      1.000000               0.217201                                0.036577\n",
      "baked spanish risotto                      0.222029                0.087388                      0.217201               1.000000                                0.031891\n",
      "cucumber in vinegar  pickled cucumbers     0.068761                0.105617                      0.036577               0.031891                                1.000000\n"
     ]
    }
   ],
   "source": [
    "# Вычисление близости между каждой парой рецептов\n",
    "similarity_matrix = []\n",
    "for i in range(len(tfidf_vectors)):\n",
    "    row = []\n",
    "    for j in range(len(tfidf_vectors)):\n",
    "        similarity = 1 - cosine(tfidf_vectors[i], tfidf_vectors[j])\n",
    "        row.append(similarity)\n",
    "    similarity_matrix.append(row)\n",
    "\n",
    "# Создание таблицы pd.DataFrame с результатами\n",
    "df_similarity = pd.DataFrame(similarity_matrix, index=random_names, columns=random_names)\n",
    "\n",
    "# Вывод результатов\n",
    "print('Близость между каждой парой рецептов:')\n",
    "print(df_similarity.to_string())"
   ]
  },
  {
   "cell_type": "markdown",
   "metadata": {},
   "source": [
    "3.3 Какие рецепты являются наиболее похожими? Прокомментируйте результат (словами)."
   ]
  },
  {
   "cell_type": "markdown",
   "metadata": {},
   "source": [
    "На основе представленной таблицы близости между каждой парой рецептов можно сделать вывод, что наиболее похожими являются рецепты “texas chili” и “baked spanish risotto”, так как значение близости между ними равно 0.222029, что является наибольшим значением в таблице. Это означает, что описания этих двух рецептов имеют наибольшее сходство среди всех выбранных рецептов.\n",
    "\n",
    "Однако стоит отметить, что значения близости между всеми парами рецептов достаточно низкие, что указывает на то, что описания всех выбранных рецептов достаточно различны друг от друга."
   ]
  }
 ],
 "metadata": {
  "kernelspec": {
   "display_name": "Python 3.10.1 64-bit",
   "language": "python",
   "name": "python3"
  },
  "language_info": {
   "codemirror_mode": {
    "name": "ipython",
    "version": 3
   },
   "file_extension": ".py",
   "mimetype": "text/x-python",
   "name": "python",
   "nbconvert_exporter": "python",
   "pygments_lexer": "ipython3",
   "version": "3.10.1"
  },
  "vscode": {
   "interpreter": {
    "hash": "bbc3c3d932324566a9bf4b4a52ddf64063695fc3adbf25b3fda92572428493bb"
   }
  }
 },
 "nbformat": 4,
 "nbformat_minor": 4
}
